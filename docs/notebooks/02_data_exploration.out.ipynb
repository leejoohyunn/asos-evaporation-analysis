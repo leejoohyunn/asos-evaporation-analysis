{
  "cells": [
    {
      "cell_type": "markdown",
      "metadata": {},
      "source": [
        "# 1. 요약통계보기\n",
        "\n",
        "데이터의 기본적인 통계량을 확인합니다."
      ],
      "id": "1fb56604-6fe6-489f-b3e6-974038f78cd1"
    },
    {
      "cell_type": "code",
      "execution_count": null,
      "metadata": {},
      "outputs": [],
      "source": [
        "# 요약통계 코드가 여기에 들어갑니다"
      ],
      "id": "cell-2"
    },
    {
      "cell_type": "markdown",
      "metadata": {},
      "source": [
        "# 2. 박스플롯 그리기\n",
        "\n",
        "지점별 박스플롯을 그려 분포를 확인합니다."
      ],
      "id": "b9b2ee28-551a-45e2-9b48-2b5a0c208587"
    },
    {
      "cell_type": "code",
      "execution_count": null,
      "metadata": {},
      "outputs": [],
      "source": [
        "# 박스플롯 코드가 여기에 들어갑니다"
      ],
      "id": "cell-4"
    },
    {
      "cell_type": "markdown",
      "metadata": {},
      "source": [
        "# 3. 히스토그램 그리기\n",
        "\n",
        "변수별 히스토그램을 그려 분포를 확인합니다."
      ],
      "id": "e8051fc0-4297-4029-9d58-0940bdf90db6"
    },
    {
      "cell_type": "code",
      "execution_count": null,
      "metadata": {},
      "outputs": [],
      "source": [
        "# 히스토그램 코드가 여기에 들어갑니다"
      ],
      "id": "cell-6"
    }
  ],
  "nbformat": 4,
  "nbformat_minor": 5,
  "metadata": {
    "kernelspec": {
      "name": "python3",
      "display_name": "Python 3",
      "language": "python"
    },
    "language_info": {
      "name": "python",
      "codemirror_mode": {
        "name": "ipython",
        "version": "3"
      },
      "file_extension": ".py",
      "mimetype": "text/x-python",
      "nbconvert_exporter": "python",
      "pygments_lexer": "ipython3",
      "version": "3.8.5"
    }
  }
}