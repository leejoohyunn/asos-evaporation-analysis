{
  "cells": [
    {
      "cell_type": "markdown",
      "metadata": {},
      "source": [
        "# 1. 모형성능검증\n",
        "\n",
        "구축된 모형의 성능을 검증합니다."
      ],
      "id": "ccda80f8-4ba3-4470-b680-d996cc4cd34b"
    },
    {
      "cell_type": "code",
      "execution_count": null,
      "metadata": {},
      "outputs": [],
      "source": [
        "# 모형성능검증 코드가 여기에 들어갑니다\n",
        "print(\"모형성능검증 완료\")"
      ],
      "id": "cell-2"
    },
    {
      "cell_type": "markdown",
      "metadata": {},
      "source": [
        "# 2. 교차검증\n",
        "\n",
        "지점별 교차검증을 수행하여 모형의 일반화 성능을 평가합니다."
      ],
      "id": "fa4f82bd-0e44-4ddd-ac5a-92b4ca2b1594"
    },
    {
      "cell_type": "code",
      "execution_count": null,
      "metadata": {},
      "outputs": [],
      "source": [
        "# 교차검증 코드가 여기에 들어갑니다\n",
        "print(\"교차검증 완료\")"
      ],
      "id": "cell-4"
    }
  ],
  "nbformat": 4,
  "nbformat_minor": 5,
  "metadata": {
    "kernelspec": {
      "name": "python3",
      "display_name": "Python 3",
      "language": "python"
    },
    "language_info": {
      "name": "python",
      "codemirror_mode": {
        "name": "ipython",
        "version": "3"
      },
      "file_extension": ".py",
      "mimetype": "text/x-python",
      "nbconvert_exporter": "python",
      "pygments_lexer": "ipython3",
      "version": "3.8.5"
    }
  }
}