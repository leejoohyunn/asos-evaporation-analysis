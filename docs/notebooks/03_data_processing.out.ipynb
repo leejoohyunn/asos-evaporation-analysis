{
  "cells": [
    {
      "cell_type": "markdown",
      "metadata": {},
      "source": [
        "# 1. 이상치처리\n",
        "\n",
        "기후자료 품질검사 알고리즘 기준값을 기준으로 이상치를 처리합니다."
      ],
      "id": "cd2ac20e-dede-4b46-aaae-0c366b012b4c"
    },
    {
      "cell_type": "code",
      "execution_count": null,
      "metadata": {},
      "outputs": [],
      "source": [
        "# 이상치 처리 코드가 여기에 들어갑니다\n",
        "print(\"이상치 처리 완료\")"
      ],
      "id": "cell-2"
    },
    {
      "cell_type": "markdown",
      "metadata": {},
      "source": [
        "# 2. 결측치처리\n",
        "\n",
        "결측치를 적절한 방법으로 처리합니다."
      ],
      "id": "a56206fc-4884-49ac-af3b-26bad53016a5"
    },
    {
      "cell_type": "code",
      "execution_count": null,
      "metadata": {},
      "outputs": [],
      "source": [
        "# 결측치 처리 코드가 여기에 들어갑니다\n",
        "print(\"결측치 처리 완료\")"
      ],
      "id": "cell-4"
    },
    {
      "cell_type": "markdown",
      "metadata": {},
      "source": [
        "# 3. 파생변수생성\n",
        "\n",
        "분석에 필요한 파생변수를 생성합니다."
      ],
      "id": "af3a5158-7ebe-43fa-8cc7-6257e0445ef8"
    },
    {
      "cell_type": "code",
      "execution_count": null,
      "metadata": {},
      "outputs": [],
      "source": [
        "# 파생변수 생성 코드가 여기에 들어갑니다\n",
        "print(\"파생변수 생성 완료\")"
      ],
      "id": "cell-6"
    }
  ],
  "nbformat": 4,
  "nbformat_minor": 5,
  "metadata": {
    "kernelspec": {
      "name": "python3",
      "display_name": "Python 3",
      "language": "python"
    },
    "language_info": {
      "name": "python",
      "codemirror_mode": {
        "name": "ipython",
        "version": "3"
      },
      "file_extension": ".py",
      "mimetype": "text/x-python",
      "nbconvert_exporter": "python",
      "pygments_lexer": "ipython3",
      "version": "3.8.5"
    }
  }
}