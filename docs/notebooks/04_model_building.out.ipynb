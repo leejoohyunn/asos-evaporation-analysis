{
  "cells": [
    {
      "cell_type": "markdown",
      "metadata": {},
      "source": [
        "# 1. 변수선택\n",
        "\n",
        "다중공선성을 고려하여 최적의 변수를 선택합니다."
      ],
      "id": "0e827b6d-8903-41ff-b883-45e098a6899b"
    },
    {
      "cell_type": "code",
      "execution_count": null,
      "metadata": {},
      "outputs": [],
      "source": [
        "# 변수선택 코드가 여기에 들어갑니다\n",
        "print(\"변수선택 완료\")"
      ],
      "id": "cell-2"
    },
    {
      "cell_type": "markdown",
      "metadata": {},
      "source": [
        "# 2. 모형구축\n",
        "\n",
        "랜덤포레스트 기법을 활용하여 증발량 산출 모형을 구축합니다."
      ],
      "id": "d50c6be9-c59b-4eab-9947-ce7759b0225e"
    },
    {
      "cell_type": "code",
      "execution_count": null,
      "metadata": {},
      "outputs": [],
      "source": [
        "# 모형구축 코드가 여기에 들어갑니다\n",
        "print(\"모형구축 완료\")"
      ],
      "id": "cell-4"
    }
  ],
  "nbformat": 4,
  "nbformat_minor": 5,
  "metadata": {
    "kernelspec": {
      "name": "python3",
      "display_name": "Python 3",
      "language": "python"
    },
    "language_info": {
      "name": "python",
      "codemirror_mode": {
        "name": "ipython",
        "version": "3"
      },
      "file_extension": ".py",
      "mimetype": "text/x-python",
      "nbconvert_exporter": "python",
      "pygments_lexer": "ipython3",
      "version": "3.8.5"
    }
  }
}