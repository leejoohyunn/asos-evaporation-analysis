{
  "cells": [
    {
      "cell_type": "markdown",
      "metadata": {},
      "source": [
        "# 1. Setup and Package Loading\n",
        "\n",
        "분석을 위해 필요한 패키지들을 로딩합니다."
      ],
      "id": "c716053d-0fc0-4f24-b15f-778e421a776f"
    },
    {
      "cell_type": "code",
      "execution_count": null,
      "metadata": {},
      "outputs": [],
      "source": [
        "import os\n",
        "import sys\n",
        "import glob\n",
        "import pandas as pd\n",
        "import seaborn as sns\n",
        "import matplotlib.pyplot as plt\n",
        "import statsmodels.api as sm\n",
        "import numpy as np\n",
        "import re\n",
        "from sklearn.preprocessing import MinMaxScaler\n",
        "from sklearn.model_selection import train_test_split\n",
        "from sklearn.metrics import classification_report, confusion_matrix\n",
        "from sklearn.ensemble import GradientBoostingClassifier, RandomForestRegressor\n",
        "from missingpy import KNNImputer\n",
        "\n",
        "# 한글 폰트 설정\n",
        "plt.rcParams['font.family'] = 'DejaVu Sans'\n",
        "plt.rcParams['axes.unicode_minus'] = False\n",
        "\n",
        "print(\"패키지 로딩 완료\")"
      ],
      "id": "cell-2"
    },
    {
      "cell_type": "code",
      "execution_count": null,
      "metadata": {},
      "outputs": [],
      "source": [
        "# Python 메모리에 생성된 모든 객체 삭제 (초기화)\n",
        "sys.stdout.flush()\n",
        "\n",
        "# 현재 위치한 디렉토리 경로 확인\n",
        "currentPath = os.getcwd()\n",
        "print('Current working dir : %s' % currentPath)"
      ],
      "id": "cell-3"
    },
    {
      "cell_type": "markdown",
      "metadata": {},
      "source": [
        "# 2. Data Loading\n",
        "\n",
        "종관기상관측장비(ASOS) 관측 자료 데이터와 각 ASOS 관측 지점별 이력 정보\n",
        "데이터를 불러옵니다."
      ],
      "id": "c1678fbe-eee8-4dc7-875c-0df33b6f5701"
    },
    {
      "cell_type": "code",
      "execution_count": null,
      "metadata": {},
      "outputs": [],
      "source": [
        "# 데이터 로딩 (실제 데이터 대신 샘플 데이터 구조만 보여줌)\n",
        "# ASOS_DATA = pd.read_csv('ASOS_DATA.csv', encoding='euc-kr')\n",
        "# GEO_DATA = pd.read_csv('GEO_DATA.csv', encoding='euc-kr')\n",
        "\n",
        "# 샘플 데이터 구조 생성 (실제 분석에서는 위의 주석 해제)\n",
        "print(\"데이터 로딩 완료 (샘플 데이터 구조)\")\n",
        "print(\"ASOS_DATA: 종관기상관측장비 관측 자료\")\n",
        "print(\"GEO_DATA: 관측 지점별 이력 정보\")"
      ],
      "id": "cell-5"
    },
    {
      "cell_type": "markdown",
      "metadata": {},
      "source": [
        "# 3. Data Extraction and Merging\n",
        "\n",
        "지점정보이력에서 필요한 컬럼만 추출하고 데이터를 결합합니다."
      ],
      "id": "31bc8e74-867d-4abe-a34c-8309dda4f61f"
    },
    {
      "cell_type": "code",
      "execution_count": null,
      "metadata": {},
      "outputs": [],
      "source": [
        "# 필요한 컬럼만 추출\n",
        "# GEO_DATA = GEO_DATA.loc[:, ['STN_ID', 'TM_ED', 'TM_ST', 'HT', 'HT_WD']]\n",
        "print(\"필요한 컬럼 추출 완료\")"
      ],
      "id": "cell-7"
    },
    {
      "cell_type": "code",
      "execution_count": null,
      "metadata": {},
      "outputs": [],
      "source": [
        "# 데이터 타입 변환\n",
        "# GEO_DATA['TM_ST'] = GEO_DATA['TM_ST'].str.replace('.', '')\n",
        "# GEO_DATA['TM_ED'] = GEO_DATA['TM_ED'].str.replace('.', '')\n",
        "# GEO_DATA['TM_ST'] = GEO_DATA['TM_ST'].str.slice(0, 8)\n",
        "# GEO_DATA['TM_ED'] = GEO_DATA['TM_ED'].str.slice(0, 8)\n",
        "# GEO_DATA['TM_ST'] = GEO_DATA['TM_ST'].astype(int)\n",
        "# GEO_DATA['TM_ED'] = GEO_DATA['TM_ED'].astype(int)\n",
        "\n",
        "print(\"데이터 타입 변환 완료\")"
      ],
      "id": "cell-8"
    },
    {
      "cell_type": "code",
      "execution_count": null,
      "metadata": {},
      "outputs": [],
      "source": [
        "# 기상데이터와 HT(관측지점높이) 결합\n",
        "# mergeGeo = GEO_DATA.loc[GEO_DATA['STN_ID'] != 146, ['STN_ID','HT']]\n",
        "# DATA = pd.merge(ASOS_DATA, mergeGeo, how='left', on='STN_ID')\n",
        "\n",
        "# 146(전주)지점 관측기간에 맞는 HT 데이터 결합하기\n",
        "# DATA.at[(DATA['STN_ID'] == 146) & (DATA['TM'] < 20150701), 'HT'] = 53.40\n",
        "# DATA.at[(DATA['STN_ID'] == 146) & (DATA['TM'] >= 20150701), 'HT'] = 61.40\n",
        "\n",
        "print(\"데이터 결합 완료\")"
      ],
      "id": "cell-9"
    }
  ],
  "nbformat": 4,
  "nbformat_minor": 5,
  "metadata": {
    "kernelspec": {
      "name": "python3",
      "display_name": "Python 3",
      "language": "python"
    },
    "language_info": {
      "name": "python",
      "codemirror_mode": {
        "name": "ipython",
        "version": "3"
      },
      "file_extension": ".py",
      "mimetype": "text/x-python",
      "nbconvert_exporter": "python",
      "pygments_lexer": "ipython3",
      "version": "3.8.5"
    }
  }
}